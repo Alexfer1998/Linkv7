{
 "cells": [
  {
   "cell_type": "markdown",
   "metadata": {},
   "source": [
    "## LinkedIn Profile Scrapper in Python"
   ]
  },
  {
   "cell_type": "code",
   "execution_count": 1,
   "metadata": {},
   "outputs": [],
   "source": [
    "import requests, time, random\n",
    "from bs4 import BeautifulSoup \n",
    "from selenium import webdriver\n",
    "import pandas as pd\n",
    "import operator\n",
    "import pyodbc\n",
    "import requests\n",
    "import time\n",
    "from datetime import datetime"
   ]
  },
  {
   "cell_type": "code",
   "execution_count": 2,
   "metadata": {},
   "outputs": [],
   "source": [
    "#ejemplo\n",
    "#VARIABLES\n",
    "#VARIABLES DE CONFIGURACION INICIAL\n",
    "SESION_PC = 'ALEX'\n",
    "TABLA_BUSCAR = 'REV_PARQUE'\n",
    "TABLA_BUSCAR2 = 'mae_titular_uba'\n",
    "\n",
    "TABLA_INSERTAR = 'AV_BASE_LINKEDIN'\n",
    "SERVER = 'SVRBI'\n",
    "DB = 'BDANALYTICS'\n",
    "HOY = datetime.now().strftime('%Y-%m-%d')\n",
    "linkRef = []\n",
    "#file = open('config.txt') \n",
    "#datos = file.readlines()\n",
    "#datos"
   ]
  },
  {
   "cell_type": "code",
   "execution_count": 3,
   "metadata": {},
   "outputs": [],
   "source": [
    "def slideBar(num, browser):\n",
    "    SCROLL_PAUSE_TIME = 10\n",
    "\n",
    "    # Get scroll height\n",
    "    last_height = browser.execute_script(\"return document.body.scrollHeight\")\n",
    "\n",
    "    for i in range(num):\n",
    "        # Scroll down to bottom\n",
    "        browser.execute_script(\"window.scrollTo(0, document.body.scrollHeight/2);\")\n",
    "\n",
    "        # Wait to load page\n",
    "        time.sleep(SCROLL_PAUSE_TIME)\n",
    "\n",
    "        # Calculate new scroll height and compare with last scroll height\n",
    "        new_height = browser.execute_script(\"return document.body.scrollHeight\")\n",
    "        if new_height == last_height:\n",
    "            break\n",
    "        last_height = new_height"
   ]
  },
  {
   "cell_type": "code",
   "execution_count": 4,
   "metadata": {},
   "outputs": [],
   "source": [
    "def iniciarSesion(browser):\n",
    "    browser.get('https://www.linkedin.com/uas/login')\n",
    "    file = open('config.txt')\n",
    "    lines = file.readlines()\n",
    "    username = lines[0]\n",
    "    password = lines[1]\n",
    "\n",
    "\n",
    "    elementID = browser.find_element_by_id('username')\n",
    "    elementID.send_keys(username)\n",
    "\n",
    "    elementID = browser.find_element_by_id('password')\n",
    "    elementID.send_keys(password)\n",
    "    elementID.submit()"
   ]
  },
  {
   "cell_type": "code",
   "execution_count": 5,
   "metadata": {},
   "outputs": [],
   "source": [
    "# Exact Link Text\n",
    "def busquedaPersonalizada(linkRef, name, browser, estado):\n",
    "    linkRef = []\n",
    "    if estado == 0:\n",
    "        browser.get('https://www.linkedin.com/mwlite/search/results/all?keywords='+ name[2]+'+'+name[0]+'+'+name[1])\n",
    "    else:\n",
    "        browser.get('https://www.linkedin.com/mwlite/search/results/all?keywords='+ name[2]+'+'+name[0])\n",
    "        \n",
    "    #slideBar(1, browser)\n",
    "    \n",
    "    #obtengo el link personal de cada perfil que se encuentre\n",
    "    src = browser.page_source\n",
    "    soup = BeautifulSoup(src, 'lxml')\n",
    "    if soup.find('ul', {'class': 'search-results'}) != None:\n",
    "        name_div = soup.find('ul', {'class': 'search-results'})\n",
    "        div = name_div.find_all('div',{'class': 'flex-entity-lockup'})\n",
    "\n",
    "        for div1 in div:\n",
    "            dataLink = div1.find_all('a',{ 'class': 'profile-path primary-details'} , href = True)\n",
    "            for a in dataLink:\n",
    "                linkRef.append(a['href']) \n",
    "                \n",
    "    return linkRef\n",
    "        "
   ]
  },
  {
   "cell_type": "code",
   "execution_count": 6,
   "metadata": {},
   "outputs": [],
   "source": [
    "\n",
    "def main(linkRef, browser):\n",
    "    path = 'https://www.linkedin.com'\n",
    "    browser.get(path+linkRef) \n",
    "    \n",
    "    slideBar(4, browser)\n",
    "    \n",
    "    src = browser.page_source\n",
    "    soup = BeautifulSoup(src, 'lxml')\n",
    "    \n",
    "    info = []\n",
    "#variables\n",
    "    name = \"\"\n",
    "    loc = \"\"\n",
    "    profile_title = \"\"\n",
    "    company_name = \"\"\n",
    "    joining_date = \"\"\n",
    "    college_name = \"\"\n",
    "    carreer = \"\"\n",
    "    job_title = \"\"\n",
    "    \n",
    "#datosPersonales\n",
    "    name_div = soup.find('div', {'class': 'flex-1 mr5'})\n",
    "    name_loc = name_div.find_all('ul')\n",
    "    name = name_loc[0].find('li').get_text().strip()\n",
    "    loc = name_loc[1].find('li').get_text().strip()\n",
    "    profile_title = name_div.find('h2').get_text().strip()\n",
    "    \n",
    "#experiencia\n",
    "#####trabajar esta parte:\n",
    "    try:\n",
    "        exp_section = soup.find('section', {'id': 'experience-section'}).find('ul')\n",
    "        li_tags = exp_section.find('div')\n",
    "        a_tags = li_tags.find('a')\n",
    "        job_title = a_tags.find('h3').get_text().strip()\n",
    "        company_name = a_tags.find_all('p')[1].get_text().strip()\n",
    "        #joining_date = a_tags.find_all('h4')[0].find_all('span')[1].get_text().strip()\n",
    "    except Exception:\n",
    "        pass\n",
    "\n",
    "#educacion\n",
    "    try:\n",
    "        edu_section = soup.find('section', {'id': 'education-section'}).find('ul')     \n",
    "        college_name = edu_section.find('h3').get_text().strip()\n",
    "        #carreer = edu_section.find('p', {'class': 'pv-entity__secondary-title pv-entity__fos t-14 t-black t-normal'}).find_all('span')[1].get_text().strip()\n",
    "    except Exception:\n",
    "        pass\n",
    "    \n",
    "    \n",
    "    info.append(name)\n",
    "    info.append(loc) \n",
    "    info.append(profile_title)\n",
    "    info.append(company_name) \n",
    "    info.append(job_title) \n",
    "    info.append(college_name) \n",
    "    #info.append(carreer) \n",
    "    \n",
    "    return info"
   ]
  },
  {
   "cell_type": "code",
   "execution_count": 147,
   "metadata": {
    "collapsed": true
   },
   "outputs": [
    {
     "ename": "WebDriverException",
     "evalue": "Message: chrome not reachable\n  (Session info: chrome=79.0.3945.117)\n",
     "output_type": "error",
     "traceback": [
      "\u001b[1;31m---------------------------------------------------------------------------\u001b[0m",
      "\u001b[1;31mWebDriverException\u001b[0m                        Traceback (most recent call last)",
      "\u001b[1;32m<ipython-input-147-d1b65e9c0dec>\u001b[0m in \u001b[0;36m<module>\u001b[1;34m\u001b[0m\n\u001b[0;32m      1\u001b[0m \u001b[1;31m###pruebas ad\u001b[0m\u001b[1;33m\u001b[0m\u001b[1;33m\u001b[0m\u001b[1;33m\u001b[0m\u001b[0m\n\u001b[0;32m      2\u001b[0m \u001b[1;33m\u001b[0m\u001b[0m\n\u001b[1;32m----> 3\u001b[1;33m \u001b[0msrc\u001b[0m \u001b[1;33m=\u001b[0m \u001b[0mbrowser\u001b[0m\u001b[1;33m.\u001b[0m\u001b[0mpage_source\u001b[0m\u001b[1;33m\u001b[0m\u001b[1;33m\u001b[0m\u001b[0m\n\u001b[0m\u001b[0;32m      4\u001b[0m \u001b[1;33m\u001b[0m\u001b[0m\n\u001b[0;32m      5\u001b[0m \u001b[0msoup\u001b[0m \u001b[1;33m=\u001b[0m \u001b[0mBeautifulSoup\u001b[0m\u001b[1;33m(\u001b[0m\u001b[0msrc\u001b[0m\u001b[1;33m,\u001b[0m \u001b[1;34m'lxml'\u001b[0m\u001b[1;33m)\u001b[0m\u001b[1;33m\u001b[0m\u001b[1;33m\u001b[0m\u001b[0m\n",
      "\u001b[1;32mC:\\ProgramData\\Anaconda3\\lib\\site-packages\\selenium\\webdriver\\remote\\webdriver.py\u001b[0m in \u001b[0;36mpage_source\u001b[1;34m(self)\u001b[0m\n\u001b[0;32m    677\u001b[0m             \u001b[0mdriver\u001b[0m\u001b[1;33m.\u001b[0m\u001b[0mpage_source\u001b[0m\u001b[1;33m\u001b[0m\u001b[1;33m\u001b[0m\u001b[0m\n\u001b[0;32m    678\u001b[0m         \"\"\"\n\u001b[1;32m--> 679\u001b[1;33m         \u001b[1;32mreturn\u001b[0m \u001b[0mself\u001b[0m\u001b[1;33m.\u001b[0m\u001b[0mexecute\u001b[0m\u001b[1;33m(\u001b[0m\u001b[0mCommand\u001b[0m\u001b[1;33m.\u001b[0m\u001b[0mGET_PAGE_SOURCE\u001b[0m\u001b[1;33m)\u001b[0m\u001b[1;33m[\u001b[0m\u001b[1;34m'value'\u001b[0m\u001b[1;33m]\u001b[0m\u001b[1;33m\u001b[0m\u001b[1;33m\u001b[0m\u001b[0m\n\u001b[0m\u001b[0;32m    680\u001b[0m \u001b[1;33m\u001b[0m\u001b[0m\n\u001b[0;32m    681\u001b[0m     \u001b[1;32mdef\u001b[0m \u001b[0mclose\u001b[0m\u001b[1;33m(\u001b[0m\u001b[0mself\u001b[0m\u001b[1;33m)\u001b[0m\u001b[1;33m:\u001b[0m\u001b[1;33m\u001b[0m\u001b[1;33m\u001b[0m\u001b[0m\n",
      "\u001b[1;32mC:\\ProgramData\\Anaconda3\\lib\\site-packages\\selenium\\webdriver\\remote\\webdriver.py\u001b[0m in \u001b[0;36mexecute\u001b[1;34m(self, driver_command, params)\u001b[0m\n\u001b[0;32m    319\u001b[0m         \u001b[0mresponse\u001b[0m \u001b[1;33m=\u001b[0m \u001b[0mself\u001b[0m\u001b[1;33m.\u001b[0m\u001b[0mcommand_executor\u001b[0m\u001b[1;33m.\u001b[0m\u001b[0mexecute\u001b[0m\u001b[1;33m(\u001b[0m\u001b[0mdriver_command\u001b[0m\u001b[1;33m,\u001b[0m \u001b[0mparams\u001b[0m\u001b[1;33m)\u001b[0m\u001b[1;33m\u001b[0m\u001b[1;33m\u001b[0m\u001b[0m\n\u001b[0;32m    320\u001b[0m         \u001b[1;32mif\u001b[0m \u001b[0mresponse\u001b[0m\u001b[1;33m:\u001b[0m\u001b[1;33m\u001b[0m\u001b[1;33m\u001b[0m\u001b[0m\n\u001b[1;32m--> 321\u001b[1;33m             \u001b[0mself\u001b[0m\u001b[1;33m.\u001b[0m\u001b[0merror_handler\u001b[0m\u001b[1;33m.\u001b[0m\u001b[0mcheck_response\u001b[0m\u001b[1;33m(\u001b[0m\u001b[0mresponse\u001b[0m\u001b[1;33m)\u001b[0m\u001b[1;33m\u001b[0m\u001b[1;33m\u001b[0m\u001b[0m\n\u001b[0m\u001b[0;32m    322\u001b[0m             response['value'] = self._unwrap_value(\n\u001b[0;32m    323\u001b[0m                 response.get('value', None))\n",
      "\u001b[1;32mC:\\ProgramData\\Anaconda3\\lib\\site-packages\\selenium\\webdriver\\remote\\errorhandler.py\u001b[0m in \u001b[0;36mcheck_response\u001b[1;34m(self, response)\u001b[0m\n\u001b[0;32m    240\u001b[0m                 \u001b[0malert_text\u001b[0m \u001b[1;33m=\u001b[0m \u001b[0mvalue\u001b[0m\u001b[1;33m[\u001b[0m\u001b[1;34m'alert'\u001b[0m\u001b[1;33m]\u001b[0m\u001b[1;33m.\u001b[0m\u001b[0mget\u001b[0m\u001b[1;33m(\u001b[0m\u001b[1;34m'text'\u001b[0m\u001b[1;33m)\u001b[0m\u001b[1;33m\u001b[0m\u001b[1;33m\u001b[0m\u001b[0m\n\u001b[0;32m    241\u001b[0m             \u001b[1;32mraise\u001b[0m \u001b[0mexception_class\u001b[0m\u001b[1;33m(\u001b[0m\u001b[0mmessage\u001b[0m\u001b[1;33m,\u001b[0m \u001b[0mscreen\u001b[0m\u001b[1;33m,\u001b[0m \u001b[0mstacktrace\u001b[0m\u001b[1;33m,\u001b[0m \u001b[0malert_text\u001b[0m\u001b[1;33m)\u001b[0m\u001b[1;33m\u001b[0m\u001b[1;33m\u001b[0m\u001b[0m\n\u001b[1;32m--> 242\u001b[1;33m         \u001b[1;32mraise\u001b[0m \u001b[0mexception_class\u001b[0m\u001b[1;33m(\u001b[0m\u001b[0mmessage\u001b[0m\u001b[1;33m,\u001b[0m \u001b[0mscreen\u001b[0m\u001b[1;33m,\u001b[0m \u001b[0mstacktrace\u001b[0m\u001b[1;33m)\u001b[0m\u001b[1;33m\u001b[0m\u001b[1;33m\u001b[0m\u001b[0m\n\u001b[0m\u001b[0;32m    243\u001b[0m \u001b[1;33m\u001b[0m\u001b[0m\n\u001b[0;32m    244\u001b[0m     \u001b[1;32mdef\u001b[0m \u001b[0m_value_or_default\u001b[0m\u001b[1;33m(\u001b[0m\u001b[0mself\u001b[0m\u001b[1;33m,\u001b[0m \u001b[0mobj\u001b[0m\u001b[1;33m,\u001b[0m \u001b[0mkey\u001b[0m\u001b[1;33m,\u001b[0m \u001b[0mdefault\u001b[0m\u001b[1;33m)\u001b[0m\u001b[1;33m:\u001b[0m\u001b[1;33m\u001b[0m\u001b[1;33m\u001b[0m\u001b[0m\n",
      "\u001b[1;31mWebDriverException\u001b[0m: Message: chrome not reachable\n  (Session info: chrome=79.0.3945.117)\n"
     ]
    }
   ],
   "source": [
    "###pruebas ad\n",
    " \n",
    "src = browser.page_source\n",
    "\n",
    "soup = BeautifulSoup(src, 'lxml')\n",
    "\n",
    "#divP = soup.find('div',{'class':'profile-detail'})\n",
    "exp_section = soup.find('section', {'id': 'experience-section'}).find('ul')\n",
    "li_tags = exp_section.find('div')\n",
    "a_tags = li_tags.find('a')\n",
    "job_title = a_tags.find('h3').get_text().strip()\n",
    "company_name = a_tags.find_all('p')[1].get_text().strip()\n",
    " #joining_date = a_tags.find_all('h4')[0].find_all('span')[1].get_text().strip()\n",
    "edu_section = soup.find('section', {'id': 'education-section'}).find('ul')     \n",
    "college_name = edu_section.find('h3').get_text().strip()\n",
    "carreer = edu_section.find('p', {'class': 'pv-entity__secondary-title pv-entity__fos t-14 t-black t-normal'}).find_all('span')[1].get_text().strip()\n",
    "\n",
    "print(job_title, company_name, college_name)"
   ]
  },
  {
   "cell_type": "code",
   "execution_count": 7,
   "metadata": {},
   "outputs": [],
   "source": [
    "def baseData():\n",
    "    cnn = pyodbc.connect('DRIVER={SQL Server};SERVER='+SERVER+';DATABASE='+DB)\n",
    "    cursor = cnn.cursor()\n",
    "\n",
    "    cursor.execute(\"select top 100 b.numdoc ,b.nombre_largo from \"+TABLA_BUSCAR+\" a left join \"+TABLA_BUSCAR2 +\" b on a.ID_cuenta = b.idencuenta WHERE PERIODO='202001' \")\n",
    "\n",
    "    records = cursor.fetchall()\n",
    "    cursor.close()\n",
    "    return records"
   ]
  },
  {
   "cell_type": "code",
   "execution_count": 8,
   "metadata": {},
   "outputs": [],
   "source": [
    "def tablaInsertar(i, info, estado):\n",
    "    conn = pyodbc.connect('DRIVER={SQL Server};SERVER='+SERVER+';DATABASE='+DB)\n",
    "    cursor = conn.cursor()\n",
    "    conn.cursor().execute(\"insert into AV_BASE_LINKEDIN values (?,?,?,?,?,?,?,?)\",(i[0],info[0],info[1], info[3], info[2], info[5], estado,HOY ) )\n",
    "    conn.commit()\n",
    "    conn.close()"
   ]
  },
  {
   "cell_type": "code",
   "execution_count": 9,
   "metadata": {},
   "outputs": [
    {
     "name": "stdout",
     "output_type": "stream",
     "text": [
      "('42869811', 'BRAVO ALCCA RICHARD JOHN')\n",
      "['Richard Alberto Lara Bravo', 'Perú', 'Administrativo Multifuncional en BBVA Provincial', 'BBVA Provincial', 'Administrativo Multifuncional', 'Universidad Yacambú']\n",
      "('07809608', 'CASAPIA VALDIVIA GUILLERMO HUMBERTO')\n",
      "['Guillermo Casapía', 'Perú', 'Manager HEAT COMPANY S.A.C.', '', '', '']\n",
      "('10090213', 'CENTENO BARRIENTOS JUAN DANY')\n",
      "['juan dany centeno barrientos', 'Perú', '--', '', '', '']\n",
      "('10307110', 'PEREZ MEDINA LITTA PATRICIA')\n",
      "('44970275', 'TANIGUCHI PAREDES CYNTHIA JANINA')\n",
      "['Cynthia Taniguchi', 'Perú', 'Analista de QA en TBS Peru', 'TBS Peru', 'Analista de QA', '']\n",
      "('42154417', 'MENDOZA URRUTIA ANGEL IVAN')\n"
     ]
    },
    {
     "ename": "DataError",
     "evalue": "('22001', '[22001] [Microsoft][ODBC SQL Server Driver][SQL Server]Los datos de cadena o binarios se truncarían. (8152) (SQLExecDirectW); [22001] [Microsoft][ODBC SQL Server Driver][SQL Server]Se terminó la instrucción. (3621)')",
     "output_type": "error",
     "traceback": [
      "\u001b[1;31m---------------------------------------------------------------------------\u001b[0m",
      "\u001b[1;31mDataError\u001b[0m                                 Traceback (most recent call last)",
      "\u001b[1;32m<ipython-input-9-f0f3b8de3c52>\u001b[0m in \u001b[0;36m<module>\u001b[1;34m\u001b[0m\n\u001b[0;32m     23\u001b[0m                 \u001b[1;31m##para extraer solo aquellos que son de Perú\u001b[0m\u001b[1;33m\u001b[0m\u001b[1;33m\u001b[0m\u001b[1;33m\u001b[0m\u001b[0m\n\u001b[0;32m     24\u001b[0m             \u001b[1;32mif\u001b[0m \u001b[0minfo\u001b[0m\u001b[1;33m[\u001b[0m\u001b[1;36m1\u001b[0m\u001b[1;33m]\u001b[0m\u001b[1;33m.\u001b[0m\u001b[0mfind\u001b[0m\u001b[1;33m(\u001b[0m\u001b[1;34m'erú'\u001b[0m\u001b[1;33m)\u001b[0m \u001b[1;33m==\u001b[0m \u001b[1;36m1\u001b[0m \u001b[1;32mor\u001b[0m \u001b[0minfo\u001b[0m\u001b[1;33m[\u001b[0m\u001b[1;36m1\u001b[0m\u001b[1;33m]\u001b[0m\u001b[1;33m.\u001b[0m\u001b[0mfind\u001b[0m\u001b[1;33m(\u001b[0m\u001b[1;34m'eru'\u001b[0m\u001b[1;33m)\u001b[0m \u001b[1;33m==\u001b[0m \u001b[1;36m1\u001b[0m\u001b[1;33m:\u001b[0m\u001b[1;33m\u001b[0m\u001b[1;33m\u001b[0m\u001b[0m\n\u001b[1;32m---> 25\u001b[1;33m                 \u001b[0mtablaInsertar\u001b[0m\u001b[1;33m(\u001b[0m\u001b[0mi\u001b[0m\u001b[1;33m,\u001b[0m \u001b[0minfo\u001b[0m\u001b[1;33m,\u001b[0m \u001b[0mestado\u001b[0m\u001b[1;33m)\u001b[0m\u001b[1;33m\u001b[0m\u001b[1;33m\u001b[0m\u001b[0m\n\u001b[0m\u001b[0;32m     26\u001b[0m                 \u001b[0mprint\u001b[0m\u001b[1;33m(\u001b[0m\u001b[0minfo\u001b[0m\u001b[1;33m)\u001b[0m\u001b[1;33m\u001b[0m\u001b[1;33m\u001b[0m\u001b[0m\n\u001b[0;32m     27\u001b[0m                 \u001b[1;32mbreak\u001b[0m\u001b[1;33m;\u001b[0m\u001b[1;33m\u001b[0m\u001b[1;33m\u001b[0m\u001b[0m\n",
      "\u001b[1;32m<ipython-input-8-08d385538895>\u001b[0m in \u001b[0;36mtablaInsertar\u001b[1;34m(i, info, estado)\u001b[0m\n\u001b[0;32m      2\u001b[0m     \u001b[0mconn\u001b[0m \u001b[1;33m=\u001b[0m \u001b[0mpyodbc\u001b[0m\u001b[1;33m.\u001b[0m\u001b[0mconnect\u001b[0m\u001b[1;33m(\u001b[0m\u001b[1;34m'DRIVER={SQL Server};SERVER='\u001b[0m\u001b[1;33m+\u001b[0m\u001b[0mSERVER\u001b[0m\u001b[1;33m+\u001b[0m\u001b[1;34m';DATABASE='\u001b[0m\u001b[1;33m+\u001b[0m\u001b[0mDB\u001b[0m\u001b[1;33m)\u001b[0m\u001b[1;33m\u001b[0m\u001b[1;33m\u001b[0m\u001b[0m\n\u001b[0;32m      3\u001b[0m     \u001b[0mcursor\u001b[0m \u001b[1;33m=\u001b[0m \u001b[0mconn\u001b[0m\u001b[1;33m.\u001b[0m\u001b[0mcursor\u001b[0m\u001b[1;33m(\u001b[0m\u001b[1;33m)\u001b[0m\u001b[1;33m\u001b[0m\u001b[1;33m\u001b[0m\u001b[0m\n\u001b[1;32m----> 4\u001b[1;33m     \u001b[0mconn\u001b[0m\u001b[1;33m.\u001b[0m\u001b[0mcursor\u001b[0m\u001b[1;33m(\u001b[0m\u001b[1;33m)\u001b[0m\u001b[1;33m.\u001b[0m\u001b[0mexecute\u001b[0m\u001b[1;33m(\u001b[0m\u001b[1;34m\"insert into AV_BASE_LINKEDIN values (?,?,?,?,?,?,?,?)\"\u001b[0m\u001b[1;33m,\u001b[0m\u001b[1;33m(\u001b[0m\u001b[0mi\u001b[0m\u001b[1;33m[\u001b[0m\u001b[1;36m0\u001b[0m\u001b[1;33m]\u001b[0m\u001b[1;33m,\u001b[0m\u001b[0minfo\u001b[0m\u001b[1;33m[\u001b[0m\u001b[1;36m0\u001b[0m\u001b[1;33m]\u001b[0m\u001b[1;33m,\u001b[0m\u001b[0minfo\u001b[0m\u001b[1;33m[\u001b[0m\u001b[1;36m1\u001b[0m\u001b[1;33m]\u001b[0m\u001b[1;33m,\u001b[0m \u001b[0minfo\u001b[0m\u001b[1;33m[\u001b[0m\u001b[1;36m3\u001b[0m\u001b[1;33m]\u001b[0m\u001b[1;33m,\u001b[0m \u001b[0minfo\u001b[0m\u001b[1;33m[\u001b[0m\u001b[1;36m2\u001b[0m\u001b[1;33m]\u001b[0m\u001b[1;33m,\u001b[0m \u001b[0minfo\u001b[0m\u001b[1;33m[\u001b[0m\u001b[1;36m5\u001b[0m\u001b[1;33m]\u001b[0m\u001b[1;33m,\u001b[0m \u001b[0mestado\u001b[0m\u001b[1;33m,\u001b[0m\u001b[0mHOY\u001b[0m \u001b[1;33m)\u001b[0m \u001b[1;33m)\u001b[0m\u001b[1;33m\u001b[0m\u001b[1;33m\u001b[0m\u001b[0m\n\u001b[0m\u001b[0;32m      5\u001b[0m     \u001b[0mconn\u001b[0m\u001b[1;33m.\u001b[0m\u001b[0mcommit\u001b[0m\u001b[1;33m(\u001b[0m\u001b[1;33m)\u001b[0m\u001b[1;33m\u001b[0m\u001b[1;33m\u001b[0m\u001b[0m\n\u001b[0;32m      6\u001b[0m     \u001b[0mconn\u001b[0m\u001b[1;33m.\u001b[0m\u001b[0mclose\u001b[0m\u001b[1;33m(\u001b[0m\u001b[1;33m)\u001b[0m\u001b[1;33m\u001b[0m\u001b[1;33m\u001b[0m\u001b[0m\n",
      "\u001b[1;31mDataError\u001b[0m: ('22001', '[22001] [Microsoft][ODBC SQL Server Driver][SQL Server]Los datos de cadena o binarios se truncarían. (8152) (SQLExecDirectW); [22001] [Microsoft][ODBC SQL Server Driver][SQL Server]Se terminó la instrucción. (3621)')"
     ]
    }
   ],
   "source": [
    "if __name__ == '__main__':\n",
    "   \n",
    "    records = baseData()\n",
    "    browser = webdriver.Chrome('chromedriver.exe')\n",
    "    iniciarSesion(browser)         \n",
    "    \n",
    "    for i in records:\n",
    "        name = i[1].split()\n",
    "        estado = 0\n",
    "        linkRef = busquedaPersonalizada(linkRef, name, browser,estado) \n",
    "        cont = 0\n",
    "        print (i)\n",
    "        \n",
    "        if len(linkRef) == 0:\n",
    "            estado = 1\n",
    "            linkRef = busquedaPersonalizada(linkRef, name, browser,estado)    \n",
    "        #info de cada perfil    \n",
    "        for j in linkRef:            \n",
    "            info = main(j,browser) \n",
    "            \n",
    "            if cont == 4:\n",
    "                break\n",
    "                ##para extraer solo aquellos que son de Perú\n",
    "            if info[1].find('erú') == 1 or info[1].find('eru') == 1:\n",
    "                tablaInsertar(i, info)   \n",
    "                print(info)\n",
    "                break;\n",
    "            cont+=1\n",
    "            "
   ]
  }
 ],
 "metadata": {
  "kernelspec": {
   "display_name": "Python 3",
   "language": "python",
   "name": "python3"
  },
  "language_info": {
   "codemirror_mode": {
    "name": "ipython",
    "version": 3
   },
   "file_extension": ".py",
   "mimetype": "text/x-python",
   "name": "python",
   "nbconvert_exporter": "python",
   "pygments_lexer": "ipython3",
   "version": "3.7.1"
  }
 },
 "nbformat": 4,
 "nbformat_minor": 2
}
